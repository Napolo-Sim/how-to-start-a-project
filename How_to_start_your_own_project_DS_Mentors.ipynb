{
 "cells": [
  {
   "cell_type": "markdown",
   "id": "6ff7abe7",
   "metadata": {},
   "source": [
    "# Step 1: Import all relevant Libraries\n",
    "* Import __numpy, pandas, scikit-learn, or datascience__ library if you have only taken data8 alongside any addiotional libraries you need for your project."
   ]
  },
  {
   "cell_type": "code",
   "execution_count": 2,
   "id": "b07088ec",
   "metadata": {},
   "outputs": [],
   "source": [
    "# General Imports\n",
    "from datascience import *\n",
    "import numpy as np\n",
    "import pandas as np\n",
    "\n",
    "# Visualization Imports\n",
    "import matplotlib.pyplot as plt\n",
    "\n",
    "# These lines do some fancy plotting magic.\n",
    "%matplotlib inline\n",
    "import matplotlib.pyplot as plots\n",
    "plots.style.use('fivethirtyeight')\n",
    "\n",
    "from ipywidgets import interact, interactive, fixed, interact_manual\n",
    "import ipywidgets as widgets"
   ]
  },
  {
   "cell_type": "markdown",
   "id": "bbc5d72b",
   "metadata": {},
   "source": [
    "# Step 2: Find a Dataset and Import it\n",
    "* __[Kaggle](https://www.kaggle.com/)__: good for testing, hold more generic and small scale datasets\n",
    "* __[data.gov](https://data.gov/)__: good for research, lots of data\n",
    "\n",
    "Both good for personal projects - there are DEFINITELY more sources of data that you can pull from (API's, Google Trends, etc.)"
   ]
  },
  {
   "cell_type": "code",
   "execution_count": 10,
   "id": "e88e2ddd",
   "metadata": {},
   "outputs": [
    {
     "data": {
      "text/html": [
       "<table border=\"1\" class=\"dataframe\">\n",
       "    <thead>\n",
       "        <tr>\n",
       "            <th>Unnamed: 0</th> <th>player_name</th> <th>team_abbreviation</th> <th>age</th> <th>player_height</th> <th>player_weight</th> <th>college</th> <th>country</th> <th>draft_year</th> <th>draft_round</th> <th>draft_number</th> <th>gp</th> <th>pts</th> <th>reb</th> <th>ast</th> <th>net_rating</th> <th>oreb_pct</th> <th>dreb_pct</th> <th>usg_pct</th> <th>ts_pct</th> <th>ast_pct</th> <th>season</th>\n",
       "        </tr>\n",
       "    </thead>\n",
       "    <tbody>\n",
       "        <tr>\n",
       "            <td>0         </td> <td>Randy Livingston</td> <td>HOU              </td> <td>22  </td> <td>193.04       </td> <td>94.8007      </td> <td>Louisiana State      </td> <td>USA    </td> <td>1996      </td> <td>2          </td> <td>42          </td> <td>64  </td> <td>3.9 </td> <td>1.5 </td> <td>2.4 </td> <td>0.3       </td> <td>0.042   </td> <td>0.071   </td> <td>0.169  </td> <td>0.487 </td> <td>0.248  </td> <td>1996-97</td>\n",
       "        </tr>\n",
       "        <tr>\n",
       "            <td>1         </td> <td>Gaylon Nickerson</td> <td>WAS              </td> <td>28  </td> <td>190.5        </td> <td>86.1825      </td> <td>Northwestern Oklahoma</td> <td>USA    </td> <td>1994      </td> <td>2          </td> <td>34          </td> <td>4   </td> <td>3.8 </td> <td>1.3 </td> <td>0.3 </td> <td>8.9       </td> <td>0.03    </td> <td>0.111   </td> <td>0.174  </td> <td>0.497 </td> <td>0.043  </td> <td>1996-97</td>\n",
       "        </tr>\n",
       "        <tr>\n",
       "            <td>2         </td> <td>George Lynch    </td> <td>VAN              </td> <td>26  </td> <td>203.2        </td> <td>103.419      </td> <td>North Carolina       </td> <td>USA    </td> <td>1993      </td> <td>1          </td> <td>12          </td> <td>41  </td> <td>8.3 </td> <td>6.4 </td> <td>1.9 </td> <td>-8.2      </td> <td>0.106   </td> <td>0.185   </td> <td>0.175  </td> <td>0.512 </td> <td>0.125  </td> <td>1996-97</td>\n",
       "        </tr>\n",
       "    </tbody>\n",
       "</table>\n",
       "<p>... (12832 rows omitted)</p>"
      ],
      "text/plain": [
       "<IPython.core.display.HTML object>"
      ]
     },
     "metadata": {},
     "output_type": "display_data"
    }
   ],
   "source": [
    "population = Table.read_table('all_seasons.csv').where(\"age\", are.below(42))\n",
    "population.show(3)"
   ]
  },
  {
   "cell_type": "markdown",
   "id": "54f7c869",
   "metadata": {},
   "source": [
    "# Step 3: Explore your Data / Do your project"
   ]
  },
  {
   "cell_type": "markdown",
   "id": "5ad64c5d",
   "metadata": {},
   "source": [
    "# Step 4: Making your project accessible\n",
    "* Create a github account\n",
    "* Uploading the contents of your project onto your Github account"
   ]
  },
  {
   "cell_type": "code",
   "execution_count": null,
   "id": "bc18b3d6",
   "metadata": {},
   "outputs": [],
   "source": []
  }
 ],
 "metadata": {
  "kernelspec": {
   "display_name": "Python 3 (ipykernel)",
   "language": "python",
   "name": "python3"
  },
  "language_info": {
   "codemirror_mode": {
    "name": "ipython",
    "version": 3
   },
   "file_extension": ".py",
   "mimetype": "text/x-python",
   "name": "python",
   "nbconvert_exporter": "python",
   "pygments_lexer": "ipython3",
   "version": "3.9.15"
  }
 },
 "nbformat": 4,
 "nbformat_minor": 5
}
